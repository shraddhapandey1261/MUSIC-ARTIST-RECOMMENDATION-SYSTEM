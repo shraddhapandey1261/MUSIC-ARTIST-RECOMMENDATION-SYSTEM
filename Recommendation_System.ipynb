{
 "cells": [
  {
   "cell_type": "code",
   "execution_count": 22,
   "metadata": {
    "id": "ZdKbazj_MRiG"
   },
   "outputs": [],
   "source": [
    "import numpy as np\n",
    "import pandas as pd\n",
    "import difflib\n",
    "import pickle\n",
    "from sklearn.feature_extraction.text import TfidfVectorizer\n",
    "from sklearn.metrics.pairwise import cosine_similarity"
   ]
  },
  {
   "cell_type": "markdown",
   "metadata": {
    "id": "4jnOxI2VMyUe"
   },
   "source": [
    "Data Collection"
   ]
  },
  {
   "cell_type": "code",
   "execution_count": 23,
   "metadata": {
    "id": "lo2wsSYfM01E"
   },
   "outputs": [
    {
     "data": {
      "text/html": [
       "<div>\n",
       "<style scoped>\n",
       "    .dataframe tbody tr th:only-of-type {\n",
       "        vertical-align: middle;\n",
       "    }\n",
       "\n",
       "    .dataframe tbody tr th {\n",
       "        vertical-align: top;\n",
       "    }\n",
       "\n",
       "    .dataframe thead th {\n",
       "        text-align: right;\n",
       "    }\n",
       "</style>\n",
       "<table border=\"1\" class=\"dataframe\">\n",
       "  <thead>\n",
       "    <tr style=\"text-align: right;\">\n",
       "      <th></th>\n",
       "      <th>Index</th>\n",
       "      <th>mbid</th>\n",
       "      <th>artist_mb</th>\n",
       "      <th>artist_lastfm</th>\n",
       "      <th>country_mb</th>\n",
       "      <th>country_lastfm</th>\n",
       "      <th>tags_mb</th>\n",
       "      <th>tags_lastfm</th>\n",
       "      <th>listeners_lastfm</th>\n",
       "      <th>scrobbles_lastfm</th>\n",
       "      <th>ambiguous_artist</th>\n",
       "    </tr>\n",
       "  </thead>\n",
       "  <tbody>\n",
       "    <tr>\n",
       "      <th>0</th>\n",
       "      <td>0</td>\n",
       "      <td>cc197bad-dc9c-440d-a5b5-d52ba2e14234</td>\n",
       "      <td>Coldplay</td>\n",
       "      <td>Coldplay</td>\n",
       "      <td>United Kingdom</td>\n",
       "      <td>United Kingdom</td>\n",
       "      <td>rock; pop; alternative rock; british; uk; brit...</td>\n",
       "      <td>rock; alternative; britpop; alternative rock; ...</td>\n",
       "      <td>5381567.0</td>\n",
       "      <td>360111850.0</td>\n",
       "      <td>False</td>\n",
       "    </tr>\n",
       "    <tr>\n",
       "      <th>1</th>\n",
       "      <td>1</td>\n",
       "      <td>a74b1b7f-71a5-4011-9441-d0b5e4122711</td>\n",
       "      <td>Radiohead</td>\n",
       "      <td>Radiohead</td>\n",
       "      <td>United Kingdom</td>\n",
       "      <td>United Kingdom</td>\n",
       "      <td>rock; electronic; alternative rock; british; g...</td>\n",
       "      <td>alternative; alternative rock; rock; indie; el...</td>\n",
       "      <td>4732528.0</td>\n",
       "      <td>499548797.0</td>\n",
       "      <td>False</td>\n",
       "    </tr>\n",
       "    <tr>\n",
       "      <th>2</th>\n",
       "      <td>2</td>\n",
       "      <td>8bfac288-ccc5-448d-9573-c33ea2aa5c30</td>\n",
       "      <td>Red Hot Chili Peppers</td>\n",
       "      <td>Red Hot Chili Peppers</td>\n",
       "      <td>United States</td>\n",
       "      <td>United States</td>\n",
       "      <td>rock; alternative rock; 80s; 90s; rap; metal; ...</td>\n",
       "      <td>rock; alternative rock; alternative; Funk Rock...</td>\n",
       "      <td>4620835.0</td>\n",
       "      <td>293784041.0</td>\n",
       "      <td>False</td>\n",
       "    </tr>\n",
       "    <tr>\n",
       "      <th>3</th>\n",
       "      <td>3</td>\n",
       "      <td>73e5e69d-3554-40d8-8516-00cb38737a1c</td>\n",
       "      <td>Rihanna</td>\n",
       "      <td>Rihanna</td>\n",
       "      <td>United States</td>\n",
       "      <td>Barbados; United States</td>\n",
       "      <td>pop; dance; hip hop; reggae; contemporary r b;...</td>\n",
       "      <td>pop; rnb; female vocalists; dance; Hip-Hop; Ri...</td>\n",
       "      <td>4558193.0</td>\n",
       "      <td>199248986.0</td>\n",
       "      <td>False</td>\n",
       "    </tr>\n",
       "    <tr>\n",
       "      <th>4</th>\n",
       "      <td>4</td>\n",
       "      <td>b95ce3ff-3d05-4e87-9e01-c97b66af13d4</td>\n",
       "      <td>Eminem</td>\n",
       "      <td>Eminem</td>\n",
       "      <td>United States</td>\n",
       "      <td>United States</td>\n",
       "      <td>turkish; rap; american; hip-hop; hip hop; hiph...</td>\n",
       "      <td>rap; Hip-Hop; Eminem; hip hop; pop; american; ...</td>\n",
       "      <td>4517997.0</td>\n",
       "      <td>199507511.0</td>\n",
       "      <td>False</td>\n",
       "    </tr>\n",
       "    <tr>\n",
       "      <th>...</th>\n",
       "      <td>...</td>\n",
       "      <td>...</td>\n",
       "      <td>...</td>\n",
       "      <td>...</td>\n",
       "      <td>...</td>\n",
       "      <td>...</td>\n",
       "      <td>...</td>\n",
       "      <td>...</td>\n",
       "      <td>...</td>\n",
       "      <td>...</td>\n",
       "      <td>...</td>\n",
       "    </tr>\n",
       "    <tr>\n",
       "      <th>1048570</th>\n",
       "      <td>1048570</td>\n",
       "      <td>e4d00c8e-5b9d-40cc-b7c8-c8690af2f49e</td>\n",
       "      <td>Cindy Bortman</td>\n",
       "      <td>NaN</td>\n",
       "      <td>NaN</td>\n",
       "      <td>NaN</td>\n",
       "      <td>NaN</td>\n",
       "      <td>NaN</td>\n",
       "      <td>NaN</td>\n",
       "      <td>NaN</td>\n",
       "      <td>False</td>\n",
       "    </tr>\n",
       "    <tr>\n",
       "      <th>1048571</th>\n",
       "      <td>1048571</td>\n",
       "      <td>f74321a6-0cff-4812-94d0-318ca8f429ec</td>\n",
       "      <td>Cindy Breakspeare</td>\n",
       "      <td>NaN</td>\n",
       "      <td>Jamaica</td>\n",
       "      <td>NaN</td>\n",
       "      <td>NaN</td>\n",
       "      <td>NaN</td>\n",
       "      <td>NaN</td>\n",
       "      <td>NaN</td>\n",
       "      <td>False</td>\n",
       "    </tr>\n",
       "    <tr>\n",
       "      <th>1048572</th>\n",
       "      <td>1048572</td>\n",
       "      <td>7e810fc3-d534-4964-8681-9edc34c5db9f</td>\n",
       "      <td>Cindy Brown</td>\n",
       "      <td>NaN</td>\n",
       "      <td>NaN</td>\n",
       "      <td>NaN</td>\n",
       "      <td>NaN</td>\n",
       "      <td>NaN</td>\n",
       "      <td>NaN</td>\n",
       "      <td>NaN</td>\n",
       "      <td>False</td>\n",
       "    </tr>\n",
       "    <tr>\n",
       "      <th>1048573</th>\n",
       "      <td>1048573</td>\n",
       "      <td>a4b32362-731e-4205-97c4-f4c5953ee70f</td>\n",
       "      <td>Cindy Browne</td>\n",
       "      <td>NaN</td>\n",
       "      <td>NaN</td>\n",
       "      <td>NaN</td>\n",
       "      <td>NaN</td>\n",
       "      <td>NaN</td>\n",
       "      <td>NaN</td>\n",
       "      <td>NaN</td>\n",
       "      <td>False</td>\n",
       "    </tr>\n",
       "    <tr>\n",
       "      <th>1048574</th>\n",
       "      <td>1048574</td>\n",
       "      <td>fab95acc-270b-4787-8389-32cf9eff9798</td>\n",
       "      <td>Cindy CallÃ¨de</td>\n",
       "      <td>NaN</td>\n",
       "      <td>NaN</td>\n",
       "      <td>NaN</td>\n",
       "      <td>NaN</td>\n",
       "      <td>NaN</td>\n",
       "      <td>NaN</td>\n",
       "      <td>NaN</td>\n",
       "      <td>False</td>\n",
       "    </tr>\n",
       "  </tbody>\n",
       "</table>\n",
       "<p>1048575 rows × 11 columns</p>\n",
       "</div>"
      ],
      "text/plain": [
       "           Index                                  mbid              artist_mb  \\\n",
       "0              0  cc197bad-dc9c-440d-a5b5-d52ba2e14234               Coldplay   \n",
       "1              1  a74b1b7f-71a5-4011-9441-d0b5e4122711              Radiohead   \n",
       "2              2  8bfac288-ccc5-448d-9573-c33ea2aa5c30  Red Hot Chili Peppers   \n",
       "3              3  73e5e69d-3554-40d8-8516-00cb38737a1c                Rihanna   \n",
       "4              4  b95ce3ff-3d05-4e87-9e01-c97b66af13d4                 Eminem   \n",
       "...          ...                                   ...                    ...   \n",
       "1048570  1048570  e4d00c8e-5b9d-40cc-b7c8-c8690af2f49e          Cindy Bortman   \n",
       "1048571  1048571  f74321a6-0cff-4812-94d0-318ca8f429ec      Cindy Breakspeare   \n",
       "1048572  1048572  7e810fc3-d534-4964-8681-9edc34c5db9f            Cindy Brown   \n",
       "1048573  1048573  a4b32362-731e-4205-97c4-f4c5953ee70f           Cindy Browne   \n",
       "1048574  1048574  fab95acc-270b-4787-8389-32cf9eff9798         Cindy CallÃ¨de   \n",
       "\n",
       "                 artist_lastfm      country_mb           country_lastfm  \\\n",
       "0                     Coldplay  United Kingdom           United Kingdom   \n",
       "1                    Radiohead  United Kingdom           United Kingdom   \n",
       "2        Red Hot Chili Peppers   United States            United States   \n",
       "3                      Rihanna   United States  Barbados; United States   \n",
       "4                       Eminem   United States            United States   \n",
       "...                        ...             ...                      ...   \n",
       "1048570                    NaN             NaN                      NaN   \n",
       "1048571                    NaN         Jamaica                      NaN   \n",
       "1048572                    NaN             NaN                      NaN   \n",
       "1048573                    NaN             NaN                      NaN   \n",
       "1048574                    NaN             NaN                      NaN   \n",
       "\n",
       "                                                   tags_mb  \\\n",
       "0        rock; pop; alternative rock; british; uk; brit...   \n",
       "1        rock; electronic; alternative rock; british; g...   \n",
       "2        rock; alternative rock; 80s; 90s; rap; metal; ...   \n",
       "3        pop; dance; hip hop; reggae; contemporary r b;...   \n",
       "4        turkish; rap; american; hip-hop; hip hop; hiph...   \n",
       "...                                                    ...   \n",
       "1048570                                                NaN   \n",
       "1048571                                                NaN   \n",
       "1048572                                                NaN   \n",
       "1048573                                                NaN   \n",
       "1048574                                                NaN   \n",
       "\n",
       "                                               tags_lastfm  listeners_lastfm  \\\n",
       "0        rock; alternative; britpop; alternative rock; ...         5381567.0   \n",
       "1        alternative; alternative rock; rock; indie; el...         4732528.0   \n",
       "2        rock; alternative rock; alternative; Funk Rock...         4620835.0   \n",
       "3        pop; rnb; female vocalists; dance; Hip-Hop; Ri...         4558193.0   \n",
       "4        rap; Hip-Hop; Eminem; hip hop; pop; american; ...         4517997.0   \n",
       "...                                                    ...               ...   \n",
       "1048570                                                NaN               NaN   \n",
       "1048571                                                NaN               NaN   \n",
       "1048572                                                NaN               NaN   \n",
       "1048573                                                NaN               NaN   \n",
       "1048574                                                NaN               NaN   \n",
       "\n",
       "         scrobbles_lastfm  ambiguous_artist  \n",
       "0             360111850.0             False  \n",
       "1             499548797.0             False  \n",
       "2             293784041.0             False  \n",
       "3             199248986.0             False  \n",
       "4             199507511.0             False  \n",
       "...                   ...               ...  \n",
       "1048570               NaN             False  \n",
       "1048571               NaN             False  \n",
       "1048572               NaN             False  \n",
       "1048573               NaN             False  \n",
       "1048574               NaN             False  \n",
       "\n",
       "[1048575 rows x 11 columns]"
      ]
     },
     "execution_count": 23,
     "metadata": {},
     "output_type": "execute_result"
    }
   ],
   "source": [
    "musicArtist_data = pd.read_csv('artists.csv',encoding='latin1')\n",
    "musicArtist_data"
   ]
  },
  {
   "cell_type": "code",
   "execution_count": 24,
   "metadata": {
    "colab": {
     "base_uri": "https://localhost:8080/",
     "height": 315
    },
    "id": "T5NfD-PPcHRH",
    "outputId": "2b1e7800-5e58-45cf-8ae5-ad07e984ee24"
   },
   "outputs": [
    {
     "data": {
      "text/html": [
       "<div>\n",
       "<style scoped>\n",
       "    .dataframe tbody tr th:only-of-type {\n",
       "        vertical-align: middle;\n",
       "    }\n",
       "\n",
       "    .dataframe tbody tr th {\n",
       "        vertical-align: top;\n",
       "    }\n",
       "\n",
       "    .dataframe thead th {\n",
       "        text-align: right;\n",
       "    }\n",
       "</style>\n",
       "<table border=\"1\" class=\"dataframe\">\n",
       "  <thead>\n",
       "    <tr style=\"text-align: right;\">\n",
       "      <th></th>\n",
       "      <th>Index</th>\n",
       "      <th>mbid</th>\n",
       "      <th>artist_mb</th>\n",
       "      <th>artist_lastfm</th>\n",
       "      <th>country_mb</th>\n",
       "      <th>country_lastfm</th>\n",
       "      <th>tags_mb</th>\n",
       "      <th>tags_lastfm</th>\n",
       "      <th>listeners_lastfm</th>\n",
       "      <th>scrobbles_lastfm</th>\n",
       "      <th>ambiguous_artist</th>\n",
       "    </tr>\n",
       "  </thead>\n",
       "  <tbody>\n",
       "    <tr>\n",
       "      <th>0</th>\n",
       "      <td>0</td>\n",
       "      <td>cc197bad-dc9c-440d-a5b5-d52ba2e14234</td>\n",
       "      <td>Coldplay</td>\n",
       "      <td>Coldplay</td>\n",
       "      <td>United Kingdom</td>\n",
       "      <td>United Kingdom</td>\n",
       "      <td>rock; pop; alternative rock; british; uk; brit...</td>\n",
       "      <td>rock; alternative; britpop; alternative rock; ...</td>\n",
       "      <td>5381567.0</td>\n",
       "      <td>360111850.0</td>\n",
       "      <td>False</td>\n",
       "    </tr>\n",
       "    <tr>\n",
       "      <th>1</th>\n",
       "      <td>1</td>\n",
       "      <td>a74b1b7f-71a5-4011-9441-d0b5e4122711</td>\n",
       "      <td>Radiohead</td>\n",
       "      <td>Radiohead</td>\n",
       "      <td>United Kingdom</td>\n",
       "      <td>United Kingdom</td>\n",
       "      <td>rock; electronic; alternative rock; british; g...</td>\n",
       "      <td>alternative; alternative rock; rock; indie; el...</td>\n",
       "      <td>4732528.0</td>\n",
       "      <td>499548797.0</td>\n",
       "      <td>False</td>\n",
       "    </tr>\n",
       "  </tbody>\n",
       "</table>\n",
       "</div>"
      ],
      "text/plain": [
       "   Index                                  mbid  artist_mb artist_lastfm  \\\n",
       "0      0  cc197bad-dc9c-440d-a5b5-d52ba2e14234   Coldplay      Coldplay   \n",
       "1      1  a74b1b7f-71a5-4011-9441-d0b5e4122711  Radiohead     Radiohead   \n",
       "\n",
       "       country_mb  country_lastfm  \\\n",
       "0  United Kingdom  United Kingdom   \n",
       "1  United Kingdom  United Kingdom   \n",
       "\n",
       "                                             tags_mb  \\\n",
       "0  rock; pop; alternative rock; british; uk; brit...   \n",
       "1  rock; electronic; alternative rock; british; g...   \n",
       "\n",
       "                                         tags_lastfm  listeners_lastfm  \\\n",
       "0  rock; alternative; britpop; alternative rock; ...         5381567.0   \n",
       "1  alternative; alternative rock; rock; indie; el...         4732528.0   \n",
       "\n",
       "   scrobbles_lastfm  ambiguous_artist  \n",
       "0       360111850.0             False  \n",
       "1       499548797.0             False  "
      ]
     },
     "execution_count": 24,
     "metadata": {},
     "output_type": "execute_result"
    }
   ],
   "source": [
    "musicArtist_data.head(2)"
   ]
  },
  {
   "cell_type": "code",
   "execution_count": 25,
   "metadata": {
    "colab": {
     "base_uri": "https://localhost:8080/"
    },
    "id": "l4bS3A1JcNfE",
    "outputId": "2a6012e7-512d-4046-b743-705a211b51cb"
   },
   "outputs": [
    {
     "data": {
      "text/plain": [
       "(1048575, 11)"
      ]
     },
     "execution_count": 25,
     "metadata": {},
     "output_type": "execute_result"
    }
   ],
   "source": [
    "musicArtist_data.shape"
   ]
  },
  {
   "cell_type": "markdown",
   "metadata": {
    "id": "2wfZ4hJQzqlO"
   },
   "source": [
    "Data Filtering"
   ]
  },
  {
   "cell_type": "code",
   "execution_count": 26,
   "metadata": {
    "id": "2gI11BJUcQ2h"
   },
   "outputs": [],
   "source": [
    "musicArtists_data=musicArtist_data.iloc[0:15000]"
   ]
  },
  {
   "cell_type": "code",
   "execution_count": 27,
   "metadata": {
    "colab": {
     "base_uri": "https://localhost:8080/"
    },
    "id": "H6jBJFbyT8rV",
    "outputId": "25756b8d-8af7-43da-b5be-d6286aedb694"
   },
   "outputs": [
    {
     "data": {
      "text/plain": [
       "(15000, 11)"
      ]
     },
     "execution_count": 27,
     "metadata": {},
     "output_type": "execute_result"
    }
   ],
   "source": [
    "musicArtists_data.shape"
   ]
  },
  {
   "cell_type": "code",
   "execution_count": 28,
   "metadata": {
    "colab": {
     "base_uri": "https://localhost:8080/"
    },
    "id": "l0hfjSriVQME",
    "outputId": "a577d927-9d80-4ab8-ffc3-469c896c2560"
   },
   "outputs": [
    {
     "data": {
      "text/plain": [
       "2093"
      ]
     },
     "execution_count": 28,
     "metadata": {},
     "output_type": "execute_result"
    }
   ],
   "source": [
    "musicArtists_data['artist_mb'].duplicated().sum()"
   ]
  },
  {
   "cell_type": "code",
   "execution_count": 29,
   "metadata": {
    "id": "nAZyZdg-SOaR"
   },
   "outputs": [],
   "source": [
    "musicArtists_data=musicArtists_data.drop_duplicates(subset='artist_mb',keep='first')"
   ]
  },
  {
   "cell_type": "code",
   "execution_count": 30,
   "metadata": {
    "colab": {
     "base_uri": "https://localhost:8080/"
    },
    "id": "9FjmlmkcS7Fp",
    "outputId": "6a6961f1-52fb-49e7-ba27-431e68cd56f9"
   },
   "outputs": [
    {
     "data": {
      "text/plain": [
       "0"
      ]
     },
     "execution_count": 30,
     "metadata": {},
     "output_type": "execute_result"
    }
   ],
   "source": [
    "musicArtists_data['artist_mb'].duplicated().sum()"
   ]
  },
  {
   "cell_type": "code",
   "execution_count": 31,
   "metadata": {
    "colab": {
     "base_uri": "https://localhost:8080/"
    },
    "id": "AcqJmf4ENQ5c",
    "outputId": "6d95c875-7ed8-472b-f09d-0aa38cdc5545"
   },
   "outputs": [
    {
     "data": {
      "text/plain": [
       "(12907, 11)"
      ]
     },
     "execution_count": 31,
     "metadata": {},
     "output_type": "execute_result"
    }
   ],
   "source": [
    "musicArtists_data.shape"
   ]
  },
  {
   "cell_type": "code",
   "execution_count": 33,
   "metadata": {},
   "outputs": [
    {
     "data": {
      "text/html": [
       "<div>\n",
       "<style scoped>\n",
       "    .dataframe tbody tr th:only-of-type {\n",
       "        vertical-align: middle;\n",
       "    }\n",
       "\n",
       "    .dataframe tbody tr th {\n",
       "        vertical-align: top;\n",
       "    }\n",
       "\n",
       "    .dataframe thead th {\n",
       "        text-align: right;\n",
       "    }\n",
       "</style>\n",
       "<table border=\"1\" class=\"dataframe\">\n",
       "  <thead>\n",
       "    <tr style=\"text-align: right;\">\n",
       "      <th></th>\n",
       "      <th>Index</th>\n",
       "      <th>mbid</th>\n",
       "      <th>artist_mb</th>\n",
       "      <th>artist_lastfm</th>\n",
       "      <th>country_mb</th>\n",
       "      <th>country_lastfm</th>\n",
       "      <th>tags_mb</th>\n",
       "      <th>tags_lastfm</th>\n",
       "      <th>listeners_lastfm</th>\n",
       "      <th>scrobbles_lastfm</th>\n",
       "      <th>ambiguous_artist</th>\n",
       "    </tr>\n",
       "  </thead>\n",
       "  <tbody>\n",
       "    <tr>\n",
       "      <th>0</th>\n",
       "      <td>0</td>\n",
       "      <td>cc197bad-dc9c-440d-a5b5-d52ba2e14234</td>\n",
       "      <td>Coldplay</td>\n",
       "      <td>Coldplay</td>\n",
       "      <td>United Kingdom</td>\n",
       "      <td>United Kingdom</td>\n",
       "      <td>rock; pop; alternative rock; british; uk; brit...</td>\n",
       "      <td>rock; alternative; britpop; alternative rock; ...</td>\n",
       "      <td>5381567.0</td>\n",
       "      <td>360111850.0</td>\n",
       "      <td>False</td>\n",
       "    </tr>\n",
       "    <tr>\n",
       "      <th>1</th>\n",
       "      <td>1</td>\n",
       "      <td>a74b1b7f-71a5-4011-9441-d0b5e4122711</td>\n",
       "      <td>Radiohead</td>\n",
       "      <td>Radiohead</td>\n",
       "      <td>United Kingdom</td>\n",
       "      <td>United Kingdom</td>\n",
       "      <td>rock; electronic; alternative rock; british; g...</td>\n",
       "      <td>alternative; alternative rock; rock; indie; el...</td>\n",
       "      <td>4732528.0</td>\n",
       "      <td>499548797.0</td>\n",
       "      <td>False</td>\n",
       "    </tr>\n",
       "    <tr>\n",
       "      <th>2</th>\n",
       "      <td>2</td>\n",
       "      <td>8bfac288-ccc5-448d-9573-c33ea2aa5c30</td>\n",
       "      <td>Red Hot Chili Peppers</td>\n",
       "      <td>Red Hot Chili Peppers</td>\n",
       "      <td>United States</td>\n",
       "      <td>United States</td>\n",
       "      <td>rock; alternative rock; 80s; 90s; rap; metal; ...</td>\n",
       "      <td>rock; alternative rock; alternative; Funk Rock...</td>\n",
       "      <td>4620835.0</td>\n",
       "      <td>293784041.0</td>\n",
       "      <td>False</td>\n",
       "    </tr>\n",
       "    <tr>\n",
       "      <th>3</th>\n",
       "      <td>3</td>\n",
       "      <td>73e5e69d-3554-40d8-8516-00cb38737a1c</td>\n",
       "      <td>Rihanna</td>\n",
       "      <td>Rihanna</td>\n",
       "      <td>United States</td>\n",
       "      <td>Barbados; United States</td>\n",
       "      <td>pop; dance; hip hop; reggae; contemporary r b;...</td>\n",
       "      <td>pop; rnb; female vocalists; dance; Hip-Hop; Ri...</td>\n",
       "      <td>4558193.0</td>\n",
       "      <td>199248986.0</td>\n",
       "      <td>False</td>\n",
       "    </tr>\n",
       "    <tr>\n",
       "      <th>4</th>\n",
       "      <td>4</td>\n",
       "      <td>b95ce3ff-3d05-4e87-9e01-c97b66af13d4</td>\n",
       "      <td>Eminem</td>\n",
       "      <td>Eminem</td>\n",
       "      <td>United States</td>\n",
       "      <td>United States</td>\n",
       "      <td>turkish; rap; american; hip-hop; hip hop; hiph...</td>\n",
       "      <td>rap; Hip-Hop; Eminem; hip hop; pop; american; ...</td>\n",
       "      <td>4517997.0</td>\n",
       "      <td>199507511.0</td>\n",
       "      <td>False</td>\n",
       "    </tr>\n",
       "    <tr>\n",
       "      <th>...</th>\n",
       "      <td>...</td>\n",
       "      <td>...</td>\n",
       "      <td>...</td>\n",
       "      <td>...</td>\n",
       "      <td>...</td>\n",
       "      <td>...</td>\n",
       "      <td>...</td>\n",
       "      <td>...</td>\n",
       "      <td>...</td>\n",
       "      <td>...</td>\n",
       "      <td>...</td>\n",
       "    </tr>\n",
       "    <tr>\n",
       "      <th>14995</th>\n",
       "      <td>14995</td>\n",
       "      <td>be39fc72-da2a-4864-8ed2-d181cb714af1</td>\n",
       "      <td>The Departure</td>\n",
       "      <td>The Departure</td>\n",
       "      <td>United Kingdom</td>\n",
       "      <td>United Kingdom</td>\n",
       "      <td>post-punk; rock and indie</td>\n",
       "      <td>indie rock; indie; post-punk; british; rock</td>\n",
       "      <td>72008.0</td>\n",
       "      <td>709904.0</td>\n",
       "      <td>False</td>\n",
       "    </tr>\n",
       "    <tr>\n",
       "      <th>14996</th>\n",
       "      <td>14996</td>\n",
       "      <td>cafba612-fca3-4bac-b235-35ab7dbff2bb</td>\n",
       "      <td>Emerson Hart</td>\n",
       "      <td>Emerson Hart</td>\n",
       "      <td>United States</td>\n",
       "      <td>United States</td>\n",
       "      <td>NaN</td>\n",
       "      <td>singer-songwriter; alternative; indie; rock; a...</td>\n",
       "      <td>72000.0</td>\n",
       "      <td>564287.0</td>\n",
       "      <td>False</td>\n",
       "    </tr>\n",
       "    <tr>\n",
       "      <th>14997</th>\n",
       "      <td>14997</td>\n",
       "      <td>092da447-423a-4147-ab49-34e91554997e</td>\n",
       "      <td>Empire! Empire! (I Was a Lonely Estate)</td>\n",
       "      <td>Empire! Empire! (I Was a Lonely Estate)</td>\n",
       "      <td>United States</td>\n",
       "      <td>United States</td>\n",
       "      <td>NaN</td>\n",
       "      <td>emo; midwest emo; indie; indie rock; post-emo ...</td>\n",
       "      <td>71988.0</td>\n",
       "      <td>3406043.0</td>\n",
       "      <td>False</td>\n",
       "    </tr>\n",
       "    <tr>\n",
       "      <th>14998</th>\n",
       "      <td>14998</td>\n",
       "      <td>29615e2a-ee44-4f4b-9cb9-6ab408770c8f</td>\n",
       "      <td>Hamilton</td>\n",
       "      <td>Hamilton</td>\n",
       "      <td>NaN</td>\n",
       "      <td>United Kingdom</td>\n",
       "      <td>NaN</td>\n",
       "      <td>Drum and bass; Drum n Bass; jump-up; dnb; elec...</td>\n",
       "      <td>71985.0</td>\n",
       "      <td>344978.0</td>\n",
       "      <td>False</td>\n",
       "    </tr>\n",
       "    <tr>\n",
       "      <th>14999</th>\n",
       "      <td>14999</td>\n",
       "      <td>37ac0589-8ccd-45b7-ac47-9f1de2707735</td>\n",
       "      <td>Ben Taylor</td>\n",
       "      <td>Ben Taylor</td>\n",
       "      <td>United States</td>\n",
       "      <td>United Kingdom; United States</td>\n",
       "      <td>NaN</td>\n",
       "      <td>singer-songwriter; acoustic; folk; seen live; ...</td>\n",
       "      <td>71978.0</td>\n",
       "      <td>470831.0</td>\n",
       "      <td>False</td>\n",
       "    </tr>\n",
       "  </tbody>\n",
       "</table>\n",
       "<p>12907 rows × 11 columns</p>\n",
       "</div>"
      ],
      "text/plain": [
       "       Index                                  mbid  \\\n",
       "0          0  cc197bad-dc9c-440d-a5b5-d52ba2e14234   \n",
       "1          1  a74b1b7f-71a5-4011-9441-d0b5e4122711   \n",
       "2          2  8bfac288-ccc5-448d-9573-c33ea2aa5c30   \n",
       "3          3  73e5e69d-3554-40d8-8516-00cb38737a1c   \n",
       "4          4  b95ce3ff-3d05-4e87-9e01-c97b66af13d4   \n",
       "...      ...                                   ...   \n",
       "14995  14995  be39fc72-da2a-4864-8ed2-d181cb714af1   \n",
       "14996  14996  cafba612-fca3-4bac-b235-35ab7dbff2bb   \n",
       "14997  14997  092da447-423a-4147-ab49-34e91554997e   \n",
       "14998  14998  29615e2a-ee44-4f4b-9cb9-6ab408770c8f   \n",
       "14999  14999  37ac0589-8ccd-45b7-ac47-9f1de2707735   \n",
       "\n",
       "                                     artist_mb  \\\n",
       "0                                     Coldplay   \n",
       "1                                    Radiohead   \n",
       "2                        Red Hot Chili Peppers   \n",
       "3                                      Rihanna   \n",
       "4                                       Eminem   \n",
       "...                                        ...   \n",
       "14995                            The Departure   \n",
       "14996                             Emerson Hart   \n",
       "14997  Empire! Empire! (I Was a Lonely Estate)   \n",
       "14998                                 Hamilton   \n",
       "14999                               Ben Taylor   \n",
       "\n",
       "                                 artist_lastfm      country_mb  \\\n",
       "0                                     Coldplay  United Kingdom   \n",
       "1                                    Radiohead  United Kingdom   \n",
       "2                        Red Hot Chili Peppers   United States   \n",
       "3                                      Rihanna   United States   \n",
       "4                                       Eminem   United States   \n",
       "...                                        ...             ...   \n",
       "14995                            The Departure  United Kingdom   \n",
       "14996                             Emerson Hart   United States   \n",
       "14997  Empire! Empire! (I Was a Lonely Estate)   United States   \n",
       "14998                                 Hamilton             NaN   \n",
       "14999                               Ben Taylor   United States   \n",
       "\n",
       "                      country_lastfm  \\\n",
       "0                     United Kingdom   \n",
       "1                     United Kingdom   \n",
       "2                      United States   \n",
       "3            Barbados; United States   \n",
       "4                      United States   \n",
       "...                              ...   \n",
       "14995                 United Kingdom   \n",
       "14996                  United States   \n",
       "14997                  United States   \n",
       "14998                 United Kingdom   \n",
       "14999  United Kingdom; United States   \n",
       "\n",
       "                                                 tags_mb  \\\n",
       "0      rock; pop; alternative rock; british; uk; brit...   \n",
       "1      rock; electronic; alternative rock; british; g...   \n",
       "2      rock; alternative rock; 80s; 90s; rap; metal; ...   \n",
       "3      pop; dance; hip hop; reggae; contemporary r b;...   \n",
       "4      turkish; rap; american; hip-hop; hip hop; hiph...   \n",
       "...                                                  ...   \n",
       "14995                          post-punk; rock and indie   \n",
       "14996                                                NaN   \n",
       "14997                                                NaN   \n",
       "14998                                                NaN   \n",
       "14999                                                NaN   \n",
       "\n",
       "                                             tags_lastfm  listeners_lastfm  \\\n",
       "0      rock; alternative; britpop; alternative rock; ...         5381567.0   \n",
       "1      alternative; alternative rock; rock; indie; el...         4732528.0   \n",
       "2      rock; alternative rock; alternative; Funk Rock...         4620835.0   \n",
       "3      pop; rnb; female vocalists; dance; Hip-Hop; Ri...         4558193.0   \n",
       "4      rap; Hip-Hop; Eminem; hip hop; pop; american; ...         4517997.0   \n",
       "...                                                  ...               ...   \n",
       "14995        indie rock; indie; post-punk; british; rock           72008.0   \n",
       "14996  singer-songwriter; alternative; indie; rock; a...           72000.0   \n",
       "14997  emo; midwest emo; indie; indie rock; post-emo ...           71988.0   \n",
       "14998  Drum and bass; Drum n Bass; jump-up; dnb; elec...           71985.0   \n",
       "14999  singer-songwriter; acoustic; folk; seen live; ...           71978.0   \n",
       "\n",
       "       scrobbles_lastfm  ambiguous_artist  \n",
       "0           360111850.0             False  \n",
       "1           499548797.0             False  \n",
       "2           293784041.0             False  \n",
       "3           199248986.0             False  \n",
       "4           199507511.0             False  \n",
       "...                 ...               ...  \n",
       "14995          709904.0             False  \n",
       "14996          564287.0             False  \n",
       "14997         3406043.0             False  \n",
       "14998          344978.0             False  \n",
       "14999          470831.0             False  \n",
       "\n",
       "[12907 rows x 11 columns]"
      ]
     },
     "execution_count": 33,
     "metadata": {},
     "output_type": "execute_result"
    }
   ],
   "source": [
    "musicArtists_data"
   ]
  },
  {
   "cell_type": "code",
   "execution_count": 11,
   "metadata": {
    "id": "8ytGoT04yaZn"
   },
   "outputs": [],
   "source": [
    "musicArtists_data.tags_mb = musicArtists_data.tags_mb.str.replace(\" \",\"\")\n",
    "musicArtists_data.tags_lastfm = musicArtists_data.tags_lastfm.str.replace(\" \",\"\")"
   ]
  },
  {
   "cell_type": "code",
   "execution_count": 12,
   "metadata": {
    "colab": {
     "base_uri": "https://localhost:8080/"
    },
    "id": "Qg65C2gC0hNa",
    "outputId": "6638cc16-19e6-499c-d181-95cca5ac5d0d"
   },
   "outputs": [
    {
     "data": {
      "text/plain": [
       "0    rock;pop;alternativerock;british;uk;britanniqu...\n",
       "1    rock;electronic;alternativerock;british;grunge...\n",
       "2    rock;alternativerock;80s;90s;rap;metal;america...\n",
       "3    pop;dance;hiphop;reggae;contemporaryrb;electro...\n",
       "4    turkish;rap;american;hip-hop;hiphop;hiphop;mid...\n",
       "Name: tags_mb, dtype: object"
      ]
     },
     "execution_count": 12,
     "metadata": {},
     "output_type": "execute_result"
    }
   ],
   "source": [
    "musicArtists_data[\"tags_mb\"].head()"
   ]
  },
  {
   "cell_type": "code",
   "execution_count": 13,
   "metadata": {
    "colab": {
     "base_uri": "https://localhost:8080/"
    },
    "id": "mOKiPyGZ1Fy8",
    "outputId": "2e00a1e6-3dfc-4f0b-ee32-ccc92b2e6ff5"
   },
   "outputs": [
    {
     "data": {
      "text/plain": [
       "0    rock;alternative;britpop;alternativerock;indie...\n",
       "1    alternative;alternativerock;rock;indie;electro...\n",
       "2    rock;alternativerock;alternative;FunkRock;funk...\n",
       "3    pop;rnb;femalevocalists;dance;Hip-Hop;Rihanna;...\n",
       "4    rap;Hip-Hop;Eminem;hiphop;pop;american;detroit...\n",
       "Name: tags_lastfm, dtype: object"
      ]
     },
     "execution_count": 13,
     "metadata": {},
     "output_type": "execute_result"
    }
   ],
   "source": [
    "musicArtists_data[\"tags_lastfm\"].head()"
   ]
  },
  {
   "cell_type": "code",
   "execution_count": 14,
   "metadata": {
    "colab": {
     "base_uri": "https://localhost:8080/"
    },
    "id": "9dw31hb5NYAR",
    "outputId": "7bc59ef0-3bc4-4878-f4fe-2d8e4c71fdd2"
   },
   "outputs": [
    {
     "name": "stdout",
     "output_type": "stream",
     "text": [
      "['artist_mb', 'tags_lastfm', 'country_mb']\n"
     ]
    }
   ],
   "source": [
    "selected_features=['artist_mb','tags_lastfm','country_mb']\n",
    "print (selected_features)"
   ]
  },
  {
   "cell_type": "code",
   "execution_count": 15,
   "metadata": {
    "id": "M77-GvFWNt2q"
   },
   "outputs": [],
   "source": [
    "for features in selected_features:\n",
    "  musicArtists_data[features] = musicArtists_data[features].fillna('')"
   ]
  },
  {
   "cell_type": "code",
   "execution_count": 16,
   "metadata": {
    "id": "qH16ipEpN-6z"
   },
   "outputs": [],
   "source": [
    "combined_features = musicArtists_data['country_mb']+' '+musicArtists_data['tags_lastfm']"
   ]
  },
  {
   "cell_type": "code",
   "execution_count": 17,
   "metadata": {
    "colab": {
     "base_uri": "https://localhost:8080/"
    },
    "id": "0lEtPK8_O0W5",
    "outputId": "4199123c-6082-43a6-fad1-a8c693730b8e"
   },
   "outputs": [
    {
     "name": "stdout",
     "output_type": "stream",
     "text": [
      "0        United Kingdom rock;alternative;britpop;altern...\n",
      "1        United Kingdom alternative;alternativerock;roc...\n",
      "2        United States rock;alternativerock;alternative...\n",
      "3        United States pop;rnb;femalevocalists;dance;Hi...\n",
      "4        United States rap;Hip-Hop;Eminem;hiphop;pop;am...\n",
      "                               ...                        \n",
      "14995    United Kingdom indierock;indie;post-punk;briti...\n",
      "14996    United States singer-songwriter;alternative;in...\n",
      "14997    United States emo;midwestemo;indie;indierock;p...\n",
      "14998     Drumandbass;DrumnBass;jump-up;dnb;electronic;...\n",
      "14999    United States singer-songwriter;acoustic;folk;...\n",
      "Length: 12907, dtype: object\n"
     ]
    }
   ],
   "source": [
    "print(combined_features)"
   ]
  },
  {
   "cell_type": "markdown",
   "metadata": {},
   "source": [
    "EDA"
   ]
  },
  {
   "cell_type": "code",
   "execution_count": 36,
   "metadata": {},
   "outputs": [
    {
     "data": {
      "text/html": [
       "<div>\n",
       "<style scoped>\n",
       "    .dataframe tbody tr th:only-of-type {\n",
       "        vertical-align: middle;\n",
       "    }\n",
       "\n",
       "    .dataframe tbody tr th {\n",
       "        vertical-align: top;\n",
       "    }\n",
       "\n",
       "    .dataframe thead th {\n",
       "        text-align: right;\n",
       "    }\n",
       "</style>\n",
       "<table border=\"1\" class=\"dataframe\">\n",
       "  <thead>\n",
       "    <tr style=\"text-align: right;\">\n",
       "      <th></th>\n",
       "      <th>Index</th>\n",
       "      <th>mbid</th>\n",
       "      <th>artist_mb</th>\n",
       "      <th>artist_lastfm</th>\n",
       "      <th>country_mb</th>\n",
       "      <th>country_lastfm</th>\n",
       "      <th>tags_mb</th>\n",
       "      <th>tags_lastfm</th>\n",
       "      <th>listeners_lastfm</th>\n",
       "      <th>scrobbles_lastfm</th>\n",
       "      <th>ambiguous_artist</th>\n",
       "    </tr>\n",
       "  </thead>\n",
       "  <tbody>\n",
       "    <tr>\n",
       "      <th>0</th>\n",
       "      <td>0</td>\n",
       "      <td>cc197bad-dc9c-440d-a5b5-d52ba2e14234</td>\n",
       "      <td>Coldplay</td>\n",
       "      <td>Coldplay</td>\n",
       "      <td>United Kingdom</td>\n",
       "      <td>United Kingdom</td>\n",
       "      <td>rock; pop; alternative rock; british; uk; brit...</td>\n",
       "      <td>rock; alternative; britpop; alternative rock; ...</td>\n",
       "      <td>5381567.0</td>\n",
       "      <td>360111850.0</td>\n",
       "      <td>False</td>\n",
       "    </tr>\n",
       "    <tr>\n",
       "      <th>1</th>\n",
       "      <td>1</td>\n",
       "      <td>a74b1b7f-71a5-4011-9441-d0b5e4122711</td>\n",
       "      <td>Radiohead</td>\n",
       "      <td>Radiohead</td>\n",
       "      <td>United Kingdom</td>\n",
       "      <td>United Kingdom</td>\n",
       "      <td>rock; electronic; alternative rock; british; g...</td>\n",
       "      <td>alternative; alternative rock; rock; indie; el...</td>\n",
       "      <td>4732528.0</td>\n",
       "      <td>499548797.0</td>\n",
       "      <td>False</td>\n",
       "    </tr>\n",
       "    <tr>\n",
       "      <th>2</th>\n",
       "      <td>2</td>\n",
       "      <td>8bfac288-ccc5-448d-9573-c33ea2aa5c30</td>\n",
       "      <td>Red Hot Chili Peppers</td>\n",
       "      <td>Red Hot Chili Peppers</td>\n",
       "      <td>United States</td>\n",
       "      <td>United States</td>\n",
       "      <td>rock; alternative rock; 80s; 90s; rap; metal; ...</td>\n",
       "      <td>rock; alternative rock; alternative; Funk Rock...</td>\n",
       "      <td>4620835.0</td>\n",
       "      <td>293784041.0</td>\n",
       "      <td>False</td>\n",
       "    </tr>\n",
       "    <tr>\n",
       "      <th>3</th>\n",
       "      <td>3</td>\n",
       "      <td>73e5e69d-3554-40d8-8516-00cb38737a1c</td>\n",
       "      <td>Rihanna</td>\n",
       "      <td>Rihanna</td>\n",
       "      <td>United States</td>\n",
       "      <td>Barbados; United States</td>\n",
       "      <td>pop; dance; hip hop; reggae; contemporary r b;...</td>\n",
       "      <td>pop; rnb; female vocalists; dance; Hip-Hop; Ri...</td>\n",
       "      <td>4558193.0</td>\n",
       "      <td>199248986.0</td>\n",
       "      <td>False</td>\n",
       "    </tr>\n",
       "    <tr>\n",
       "      <th>4</th>\n",
       "      <td>4</td>\n",
       "      <td>b95ce3ff-3d05-4e87-9e01-c97b66af13d4</td>\n",
       "      <td>Eminem</td>\n",
       "      <td>Eminem</td>\n",
       "      <td>United States</td>\n",
       "      <td>United States</td>\n",
       "      <td>turkish; rap; american; hip-hop; hip hop; hiph...</td>\n",
       "      <td>rap; Hip-Hop; Eminem; hip hop; pop; american; ...</td>\n",
       "      <td>4517997.0</td>\n",
       "      <td>199507511.0</td>\n",
       "      <td>False</td>\n",
       "    </tr>\n",
       "  </tbody>\n",
       "</table>\n",
       "</div>"
      ],
      "text/plain": [
       "   Index                                  mbid              artist_mb  \\\n",
       "0      0  cc197bad-dc9c-440d-a5b5-d52ba2e14234               Coldplay   \n",
       "1      1  a74b1b7f-71a5-4011-9441-d0b5e4122711              Radiohead   \n",
       "2      2  8bfac288-ccc5-448d-9573-c33ea2aa5c30  Red Hot Chili Peppers   \n",
       "3      3  73e5e69d-3554-40d8-8516-00cb38737a1c                Rihanna   \n",
       "4      4  b95ce3ff-3d05-4e87-9e01-c97b66af13d4                 Eminem   \n",
       "\n",
       "           artist_lastfm      country_mb           country_lastfm  \\\n",
       "0               Coldplay  United Kingdom           United Kingdom   \n",
       "1              Radiohead  United Kingdom           United Kingdom   \n",
       "2  Red Hot Chili Peppers   United States            United States   \n",
       "3                Rihanna   United States  Barbados; United States   \n",
       "4                 Eminem   United States            United States   \n",
       "\n",
       "                                             tags_mb  \\\n",
       "0  rock; pop; alternative rock; british; uk; brit...   \n",
       "1  rock; electronic; alternative rock; british; g...   \n",
       "2  rock; alternative rock; 80s; 90s; rap; metal; ...   \n",
       "3  pop; dance; hip hop; reggae; contemporary r b;...   \n",
       "4  turkish; rap; american; hip-hop; hip hop; hiph...   \n",
       "\n",
       "                                         tags_lastfm  listeners_lastfm  \\\n",
       "0  rock; alternative; britpop; alternative rock; ...         5381567.0   \n",
       "1  alternative; alternative rock; rock; indie; el...         4732528.0   \n",
       "2  rock; alternative rock; alternative; Funk Rock...         4620835.0   \n",
       "3  pop; rnb; female vocalists; dance; Hip-Hop; Ri...         4558193.0   \n",
       "4  rap; Hip-Hop; Eminem; hip hop; pop; american; ...         4517997.0   \n",
       "\n",
       "   scrobbles_lastfm  ambiguous_artist  \n",
       "0       360111850.0             False  \n",
       "1       499548797.0             False  \n",
       "2       293784041.0             False  \n",
       "3       199248986.0             False  \n",
       "4       199507511.0             False  "
      ]
     },
     "execution_count": 36,
     "metadata": {},
     "output_type": "execute_result"
    }
   ],
   "source": [
    "musicArtists_data.head()"
   ]
  },
  {
   "cell_type": "code",
   "execution_count": 35,
   "metadata": {},
   "outputs": [
    {
     "data": {
      "text/html": [
       "<div>\n",
       "<style scoped>\n",
       "    .dataframe tbody tr th:only-of-type {\n",
       "        vertical-align: middle;\n",
       "    }\n",
       "\n",
       "    .dataframe tbody tr th {\n",
       "        vertical-align: top;\n",
       "    }\n",
       "\n",
       "    .dataframe thead th {\n",
       "        text-align: right;\n",
       "    }\n",
       "</style>\n",
       "<table border=\"1\" class=\"dataframe\">\n",
       "  <thead>\n",
       "    <tr style=\"text-align: right;\">\n",
       "      <th></th>\n",
       "      <th>Index</th>\n",
       "      <th>listeners_lastfm</th>\n",
       "      <th>scrobbles_lastfm</th>\n",
       "    </tr>\n",
       "  </thead>\n",
       "  <tbody>\n",
       "    <tr>\n",
       "      <th>count</th>\n",
       "      <td>12907.00000</td>\n",
       "      <td>1.290700e+04</td>\n",
       "      <td>1.290700e+04</td>\n",
       "    </tr>\n",
       "    <tr>\n",
       "      <th>mean</th>\n",
       "      <td>7304.85566</td>\n",
       "      <td>2.940775e+05</td>\n",
       "      <td>6.781010e+06</td>\n",
       "    </tr>\n",
       "    <tr>\n",
       "      <th>std</th>\n",
       "      <td>4382.42684</td>\n",
       "      <td>4.116401e+05</td>\n",
       "      <td>1.872325e+07</td>\n",
       "    </tr>\n",
       "    <tr>\n",
       "      <th>min</th>\n",
       "      <td>0.00000</td>\n",
       "      <td>7.197800e+04</td>\n",
       "      <td>1.866180e+05</td>\n",
       "    </tr>\n",
       "    <tr>\n",
       "      <th>25%</th>\n",
       "      <td>3447.00000</td>\n",
       "      <td>9.835150e+04</td>\n",
       "      <td>1.005051e+06</td>\n",
       "    </tr>\n",
       "    <tr>\n",
       "      <th>50%</th>\n",
       "      <td>7198.00000</td>\n",
       "      <td>1.500880e+05</td>\n",
       "      <td>2.061782e+06</td>\n",
       "    </tr>\n",
       "    <tr>\n",
       "      <th>75%</th>\n",
       "      <td>11108.50000</td>\n",
       "      <td>2.989175e+05</td>\n",
       "      <td>5.150175e+06</td>\n",
       "    </tr>\n",
       "    <tr>\n",
       "      <th>max</th>\n",
       "      <td>14999.00000</td>\n",
       "      <td>5.381567e+06</td>\n",
       "      <td>5.171263e+08</td>\n",
       "    </tr>\n",
       "  </tbody>\n",
       "</table>\n",
       "</div>"
      ],
      "text/plain": [
       "             Index  listeners_lastfm  scrobbles_lastfm\n",
       "count  12907.00000      1.290700e+04      1.290700e+04\n",
       "mean    7304.85566      2.940775e+05      6.781010e+06\n",
       "std     4382.42684      4.116401e+05      1.872325e+07\n",
       "min        0.00000      7.197800e+04      1.866180e+05\n",
       "25%     3447.00000      9.835150e+04      1.005051e+06\n",
       "50%     7198.00000      1.500880e+05      2.061782e+06\n",
       "75%    11108.50000      2.989175e+05      5.150175e+06\n",
       "max    14999.00000      5.381567e+06      5.171263e+08"
      ]
     },
     "execution_count": 35,
     "metadata": {},
     "output_type": "execute_result"
    }
   ],
   "source": [
    "musicArtists_data.describe()"
   ]
  },
  {
   "cell_type": "code",
   "execution_count": 38,
   "metadata": {},
   "outputs": [
    {
     "name": "stdout",
     "output_type": "stream",
     "text": [
      "Collecting wordcloud\n",
      "  Downloading wordcloud-1.8.2.2-cp39-cp39-win_amd64.whl (153 kB)\n",
      "     ------------------------------------ 153.1/153.1 kB 759.7 kB/s eta 0:00:00\n",
      "Requirement already satisfied: pillow in c:\\users\\lenovo\\anaconda3\\lib\\site-packages (from wordcloud) (9.2.0)\n",
      "Requirement already satisfied: matplotlib in c:\\users\\lenovo\\anaconda3\\lib\\site-packages (from wordcloud) (3.5.2)\n",
      "Requirement already satisfied: numpy>=1.6.1 in c:\\users\\lenovo\\anaconda3\\lib\\site-packages (from wordcloud) (1.21.5)\n",
      "Requirement already satisfied: kiwisolver>=1.0.1 in c:\\users\\lenovo\\anaconda3\\lib\\site-packages (from matplotlib->wordcloud) (1.4.2)\n",
      "Requirement already satisfied: cycler>=0.10 in c:\\users\\lenovo\\anaconda3\\lib\\site-packages (from matplotlib->wordcloud) (0.11.0)\n",
      "Requirement already satisfied: packaging>=20.0 in c:\\users\\lenovo\\anaconda3\\lib\\site-packages (from matplotlib->wordcloud) (21.3)\n",
      "Requirement already satisfied: fonttools>=4.22.0 in c:\\users\\lenovo\\anaconda3\\lib\\site-packages (from matplotlib->wordcloud) (4.25.0)\n",
      "Requirement already satisfied: python-dateutil>=2.7 in c:\\users\\lenovo\\anaconda3\\lib\\site-packages (from matplotlib->wordcloud) (2.8.2)\n",
      "Requirement already satisfied: pyparsing>=2.2.1 in c:\\users\\lenovo\\anaconda3\\lib\\site-packages (from matplotlib->wordcloud) (3.0.9)\n",
      "Requirement already satisfied: six>=1.5 in c:\\users\\lenovo\\anaconda3\\lib\\site-packages (from python-dateutil>=2.7->matplotlib->wordcloud) (1.16.0)\n",
      "Installing collected packages: wordcloud\n",
      "Successfully installed wordcloud-1.8.2.2\n",
      "Note: you may need to restart the kernel to use updated packages.\n"
     ]
    }
   ],
   "source": [
    "pip install wordcloud"
   ]
  },
  {
   "cell_type": "code",
   "execution_count": 42,
   "metadata": {},
   "outputs": [
    {
     "data": {
      "image/png": "[encoded data removed]",
      "text/plain": [
       "<Figure size 640x480 with 1 Axes>"
      ]
     },
     "metadata": {},
     "output_type": "display_data"
    }
   ],
   "source": [
    "import matplotlib.pyplot as plt \n",
    "from wordcloud import WordCloud\n",
    "text = musicArtists_data.tags_mb[0]\n",
    "\n",
    "# Create and generate a word cloud image:\n",
    "wordcloud = WordCloud(background_color=\"white\").generate(text)\n",
    "\n",
    "# Display the generated image:\n",
    "plt.imshow(wordcloud, interpolation='bilinear')\n",
    "plt.axis(\"off\")\n",
    "plt.show()"
   ]
  },
  {
   "cell_type": "code",
   "execution_count": 49,
   "metadata": {},
   "outputs": [
    {
     "data": {
      "text/plain": [
       "Text(0.5, 0, 'Listener count')"
      ]
     },
     "execution_count": 49,
     "metadata": {},
     "output_type": "execute_result"
    },
    {
     "data": {
      "image/png": "[encoded data removed]",
      "text/plain": [
       "<Figure size 640x480 with 1 Axes>"
      ]
     },
     "metadata": {},
     "output_type": "display_data"
    }
   ],
   "source": [
    "popular_artist = musicArtists_data[['artist_mb','listeners_lastfm']].groupby('artist_mb').sum().sort_values('listeners_lastfm', \n",
    "ascending=False).head(20).sort_values('listeners_lastfm')\n",
    "f1 = popular_artist.plot(kind='barh', title='Top 20 Most Popular Artists', legend=False)\n",
    "plt.xticks(rotation='vertical')\n",
    "plt.ylabel('Artists')\n",
    "plt.xlabel('Listener count')"
   ]
  },
  {
   "cell_type": "code",
   "execution_count": 48,
   "metadata": {},
   "outputs": [
    {
     "data": {
      "text/plain": [
       "Text(0.5, 0, 'Listener count')"
      ]
     },
     "execution_count": 48,
     "metadata": {},
     "output_type": "execute_result"
    },
    {
     "data": {
      "image/png": "[encoded data removed]",
      "text/plain": [
       "<Figure size 640x480 with 1 Axes>"
      ]
     },
     "metadata": {},
     "output_type": "display_data"
    }
   ],
   "source": [
    "popular_country = musicArtists_data[['country_mb','listeners_lastfm']].groupby('country_mb').sum().sort_values('listeners_lastfm', \n",
    "ascending=False).head(20).sort_values('listeners_lastfm')\n",
    "f1 = popular_country.plot(kind='barh', title='Top 20 Most Popular Countries', legend=False)\n",
    "plt.xticks(rotation='vertical')\n",
    "plt.ylabel('Countries')\n",
    "plt.xlabel('Listener count')"
   ]
  },
  {
   "cell_type": "markdown",
   "metadata": {
    "id": "DHmotq0izyHn"
   },
   "source": [
    "Vectorizing the data"
   ]
  },
  {
   "cell_type": "code",
   "execution_count": 52,
   "metadata": {
    "id": "wNS0fu8CO8G9"
   },
   "outputs": [],
   "source": [
    "vectorizer = TfidfVectorizer()"
   ]
  },
  {
   "cell_type": "code",
   "execution_count": 53,
   "metadata": {
    "id": "swpu6_szPCv3"
   },
   "outputs": [],
   "source": [
    "feature_vector = vectorizer.fit_transform(combined_features)"
   ]
  },
  {
   "cell_type": "code",
   "execution_count": 54,
   "metadata": {
    "colab": {
     "base_uri": "https://localhost:8080/"
    },
    "id": "TipjlbUBPclp",
    "outputId": "95e0d88e-8c2c-4441-fe82-5477ac226de8"
   },
   "outputs": [
    {
     "name": "stdout",
     "output_type": "stream",
     "text": [
      "  (0, 47809)\t0.16515680984515485\n",
      "  (0, 19504)\t0.1681434670062171\n",
      "  (0, 950)\t0.09665883319130468\n",
      "  (0, 42998)\t0.2250599472514347\n",
      "  (0, 8574)\t0.4196387868422918\n",
      "  (0, 17309)\t0.07201684530841274\n",
      "  (0, 11413)\t0.11215104251311775\n",
      "  (0, 34355)\t0.11903214904736939\n",
      "  (0, 17932)\t0.12155741147126811\n",
      "  (0, 17777)\t0.12317654122098538\n",
      "  (0, 53213)\t0.08848467678444243\n",
      "  (0, 51996)\t0.08832498338364296\n",
      "  (0, 1388)\t0.10605140201369223\n",
      "  (0, 27837)\t0.10255564710777271\n",
      "  (0, 19434)\t0.114766786667646\n",
      "  (0, 10551)\t0.11481313774706126\n",
      "  (0, 14)\t0.08707151852416894\n",
      "  (0, 44154)\t0.13807968113996325\n",
      "  (0, 10616)\t0.09452823804356421\n",
      "  (0, 35288)\t0.08139698438734676\n",
      "  (0, 36428)\t0.12629388515626652\n",
      "  (0, 52868)\t0.14273535379010835\n",
      "  (0, 59473)\t0.11460501094961087\n",
      "  (0, 44192)\t0.20835960193056266\n",
      "  (0, 45076)\t0.11102404676953431\n",
      "  :\t:\n",
      "  (12906, 2548)\t0.10148257260299443\n",
      "  (12906, 56229)\t0.14820881179420725\n",
      "  (12906, 16874)\t0.10090430391827868\n",
      "  (12906, 20730)\t0.06473080745518761\n",
      "  (12906, 20630)\t0.0939184717289743\n",
      "  (12906, 1452)\t0.09035256070361705\n",
      "  (12906, 53628)\t0.06010670060035086\n",
      "  (12906, 750)\t0.0584341805381568\n",
      "  (12906, 2896)\t0.03584421944362626\n",
      "  (12906, 21810)\t0.05292180383385323\n",
      "  (12906, 54359)\t0.03252590195645332\n",
      "  (12906, 5858)\t0.06227829704176303\n",
      "  (12906, 53213)\t0.04261342400529496\n",
      "  (12906, 51996)\t0.042536517100660025\n",
      "  (12906, 1388)\t0.05107340078073312\n",
      "  (12906, 10616)\t0.04552394871754901\n",
      "  (12906, 35288)\t0.03920005513384256\n",
      "  (12906, 36428)\t0.0608219984862538\n",
      "  (12906, 27860)\t0.04473842654113447\n",
      "  (12906, 44893)\t0.031208288122219294\n",
      "  (12906, 50816)\t0.024633497381576715\n",
      "  (12906, 27723)\t0.034132375699804963\n",
      "  (12906, 2526)\t0.03221810622454366\n",
      "  (12906, 48596)\t0.057961770014818864\n",
      "  (12906, 59816)\t0.02686450501557351\n"
     ]
    }
   ],
   "source": [
    "print (feature_vector)"
   ]
  },
  {
   "cell_type": "markdown",
   "metadata": {
    "id": "97XnuHN_z2b5"
   },
   "source": [
    "Cosine Similarity"
   ]
  },
  {
   "cell_type": "code",
   "execution_count": 55,
   "metadata": {
    "id": "dSflBThaQRNo"
   },
   "outputs": [],
   "source": [
    "similarity = cosine_similarity(feature_vector)"
   ]
  },
  {
   "cell_type": "code",
   "execution_count": 56,
   "metadata": {
    "colab": {
     "base_uri": "https://localhost:8080/"
    },
    "id": "fpILYRPTyahY",
    "outputId": "192acf89-09e0-4578-d087-4fb94075fd86"
   },
   "outputs": [
    {
     "data": {
      "text/plain": [
       "array([0.34539199, 1.        , 0.14330837, ..., 0.18884661, 0.05269156,\n",
       "       0.04332834])"
      ]
     },
     "execution_count": 56,
     "metadata": {},
     "output_type": "execute_result"
    }
   ],
   "source": [
    "similarity[1]"
   ]
  },
  {
   "cell_type": "code",
   "execution_count": 57,
   "metadata": {
    "colab": {
     "base_uri": "https://localhost:8080/",
     "height": 165
    },
    "id": "o28n83E6TbSj",
    "outputId": "81b47c89-630d-4a70-c010-5eedec61326f"
   },
   "outputs": [],
   "source": [
    "pickle.dump(similarity,open('similarityscores.pkl','wb'))"
   ]
  },
  {
   "cell_type": "code",
   "execution_count": 58,
   "metadata": {
    "id": "Ye4vuE9o72Zg"
   },
   "outputs": [],
   "source": [
    "similarity1 = pickle.load(open('similarityscores.pkl','rb'))"
   ]
  },
  {
   "cell_type": "markdown",
   "metadata": {
    "id": "ghA4cOVDz-4L"
   },
   "source": [
    "Recommendation Function"
   ]
  },
  {
   "cell_type": "code",
   "execution_count": 59,
   "metadata": {
    "id": "Wf4G3duyI4ez"
   },
   "outputs": [],
   "source": [
    "def recommend(musicArtist):\n",
    "   musicArtist_name = musicArtist\n",
    "   list_of_artist_name=musicArtists_data['artist_mb'].tolist()\n",
    "   find_close_match=difflib.get_close_matches(musicArtist_name,list_of_artist_name)\n",
    "   close_match=find_close_match[0]\n",
    "   print(close_match)\n",
    "\n",
    "   musicArtist_index = musicArtists_data[musicArtists_data['artist_mb'] == close_match].index[0]\n",
    "   distances = similarity[musicArtist_index]\n",
    "   musicArtists_list = sorted(list(enumerate(distances)),key = lambda x:x[1],reverse = True)[1:30]\n",
    "\n",
    "   for i in musicArtists_list:\n",
    "     print(musicArtists_data.iloc[i[0]].artist_mb)"
   ]
  },
  {
   "cell_type": "code",
   "execution_count": 60,
   "metadata": {
    "colab": {
     "base_uri": "https://localhost:8080/"
    },
    "id": "wuW1wIojLG4d",
    "outputId": "b9e5bbd0-188c-41c1-da29-7d3581139f6d"
   },
   "outputs": [
    {
     "name": "stdout",
     "output_type": "stream",
     "text": [
      "Arctic Monkeys\n",
      "Razorlight\n",
      "Dirty Pretty Things\n",
      "Babyshambles\n",
      "Kaiser Chiefs\n",
      "HardâFi\n",
      "Editors\n",
      "Oasis\n",
      "Supergrass\n",
      "MaxÃ¯mo Park\n",
      "Blur\n",
      "Kasabian\n",
      "Bloc Party\n",
      "Franz Ferdinand\n",
      "Little Man Tate\n",
      "Graham Coxon\n",
      "Milburn\n",
      "Art Brut\n",
      "Athlete\n",
      "British Sea Power\n",
      "Stereophonics\n",
      "Nine Black Alps\n",
      "Doves\n",
      "Starsailor\n",
      "Idlewild\n",
      "Elastica\n",
      "Feeder\n",
      "Placebo\n",
      "Ash\n",
      "Mystery Jets\n"
     ]
    }
   ],
   "source": [
    "recommend('arctic monkeys')"
   ]
  },
  {
   "cell_type": "code",
   "execution_count": null,
   "metadata": {},
   "outputs": [],
   "source": []
  }
 ],
 "metadata": {
  "colab": {
   "collapsed_sections": [],
   "name": "Recommendation System.ipynb",
   "provenance": []
  },
  "kernelspec": {
   "display_name": "base",
   "language": "python",
   "name": "python3"
  },
  "language_info": {
   "codemirror_mode": {
    "name": "ipython",
    "version": 3
   },
   "file_extension": ".py",
   "mimetype": "text/x-python",
   "name": "python",
   "nbconvert_exporter": "python",
   "pygments_lexer": "ipython3",
   "version": "3.9.13"
  },
  "vscode": {
   "interpreter": {
    "hash": "1bb56c7b72a6c67ecaf8ee8c46406a85ea72178cbfd240398816f14b2d488919"
   }
  }
 },
 "nbformat": 4,
 "nbformat_minor": 1
}
